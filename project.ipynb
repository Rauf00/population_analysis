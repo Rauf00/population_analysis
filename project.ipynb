{
 "cells": [
  {
   "cell_type": "code",
   "execution_count": 29,
   "id": "7f5b1b47-bb4c-4e74-bb5d-9c6e17a56215",
   "metadata": {},
   "outputs": [],
   "source": [
    "import geopandas as gpd\n",
    "import geojsonio as geoio\n",
    "import pandas as pd\n",
    "from collections import defaultdict\n",
    "\n",
    "from sklearn.pipeline import make_pipeline\n",
    "from sklearn.naive_bayes import GaussianNB\n",
    "from sklearn.model_selection import train_test_split"
   ]
  },
  {
   "cell_type": "markdown",
   "id": "12b48cda-5eed-4499-9c1c-b5a9b444df0f",
   "metadata": {},
   "source": [
    "# Read Data"
   ]
  },
  {
   "cell_type": "code",
   "execution_count": 2,
   "id": "1ab2f22d-4fb1-41cb-bf1f-d665181ae0f6",
   "metadata": {},
   "outputs": [],
   "source": [
    "vancouver_gdf = gpd.read_file('VancouverAllData.geojson')\n",
    "osm_df = pd.read_json('amenities-vancouver.json', lines=True)\n",
    "osm_gdf = gpd.GeoDataFrame(osm_df, geometry=gpd.points_from_xy(osm_df.lat, osm_df.lon))"
   ]
  },
  {
   "cell_type": "markdown",
   "id": "1862aa65",
   "metadata": {},
   "source": [
    "# Data Prep"
   ]
  },
  {
   "cell_type": "markdown",
   "id": "9eb6ad25",
   "metadata": {},
   "source": [
    "TO DO: igure out how to check whether a point is inside MultiPolygon"
   ]
  },
  {
   "cell_type": "code",
   "execution_count": 33,
   "id": "a1a3bfc8",
   "metadata": {},
   "outputs": [],
   "source": [
    "def isWithinMultipolygon(point, multipolygon):\n",
    "    return False"
   ]
  },
  {
   "cell_type": "markdown",
   "id": "b720d0e4",
   "metadata": {},
   "source": [
    "Initialize amenities column with None values"
   ]
  },
  {
   "cell_type": "code",
   "execution_count": 36,
   "id": "5950717a",
   "metadata": {},
   "outputs": [],
   "source": [
    "vancouver_gdf['amenities'] = vancouver_gdf.apply(lambda x: None, axis=1)"
   ]
  },
  {
   "cell_type": "markdown",
   "id": "b55e7652",
   "metadata": {},
   "source": [
    "For each Vancouver area, count the number of each amenity type that is in this area, e.g. someArea['amenities'] = {cafe: 2, bank: 4,...}<br>\n",
    "TO DO: this needs to be optimized since two for loops take way too long"
   ]
  },
  {
   "cell_type": "code",
   "execution_count": null,
   "id": "d77f6f53-f598-4f8f-8954-8f642f276eb6",
   "metadata": {},
   "outputs": [],
   "source": [
    "for i in range(len(vancouver_gdf)):\n",
    "    amenities = defaultdict(int)\n",
    "    for j in range(len(osm_gdf)):\n",
    "        if isWithinMultipolygon(osm_gdf.iloc[[j]], vancouver_gdf.iloc[[i]]):\n",
    "            amenities[osm_gdf.iloc[[0]]['amenity']] += 1\n",
    "    vancouver_gdf.at[i, 'amenities'] = amenities"
   ]
  },
  {
   "cell_type": "markdown",
   "id": "d52dd2ea",
   "metadata": {},
   "source": [
    "# Machine Learning"
   ]
  },
  {
   "cell_type": "markdown",
   "id": "1f9a74b8",
   "metadata": {},
   "source": [
    "Our x is the number of amenities of some type in the area (e.g. 2 cafes, 4 banks, etc.). Our y is the population density in this area.\n"
   ]
  },
  {
   "cell_type": "code",
   "execution_count": null,
   "id": "aed4704f",
   "metadata": {},
   "outputs": [],
   "source": [
    "X = vancouver_gdf['amenities'].values\n",
    "y = vancouver_gdf['pop'].values # divide by the area of the multipolygon \n",
    "X_train, X_valid, y_train, y_valid = train_test_split(X, y)\n",
    "# train model\n",
    "model = make_pipeline(\n",
    "    GaussianNB()\n",
    ")\n",
    "model.fit(X_train, y_train)\n",
    "# validate model\n",
    "print(model.score(X_valid, y_valid))"
   ]
  },
  {
   "cell_type": "markdown",
   "id": "8e7ec7a5",
   "metadata": {},
   "source": [
    "# Heatmap"
   ]
  },
  {
   "cell_type": "markdown",
   "id": "f710d057",
   "metadata": {},
   "source": [
    "Red: overpopulated\n",
    "Yellow: OK\n",
    "Green: underpopulated"
   ]
  },
  {
   "cell_type": "markdown",
   "id": "8d4f99db",
   "metadata": {},
   "source": [
    "# Analysis"
   ]
  },
  {
   "cell_type": "markdown",
   "id": "9233da91",
   "metadata": {},
   "source": []
  }
 ],
 "metadata": {
  "kernelspec": {
   "display_name": "Python 3 (ipykernel)",
   "language": "python",
   "name": "python3"
  },
  "language_info": {
   "codemirror_mode": {
    "name": "ipython",
    "version": 3
   },
   "file_extension": ".py",
   "mimetype": "text/x-python",
   "name": "python",
   "nbconvert_exporter": "python",
   "pygments_lexer": "ipython3",
   "version": "3.10.4"
  }
 },
 "nbformat": 4,
 "nbformat_minor": 5
}
