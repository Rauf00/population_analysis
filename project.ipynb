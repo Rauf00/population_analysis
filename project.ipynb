{
 "cells": [
  {
   "cell_type": "code",
   "execution_count": 49,
   "id": "7f5b1b47-bb4c-4e74-bb5d-9c6e17a56215",
   "metadata": {},
   "outputs": [],
   "source": [
    "import geopandas as gpd\n",
    "import geojsonio as geoio\n",
    "import pandas as pd\n",
    "from collections import defaultdict\n",
    "from shapely.geometry import Point, Polygon\n",
    "from collections import Counter\n",
    "\n",
    "from sklearn.pipeline import make_pipeline\n",
    "from sklearn.naive_bayes import GaussianNB\n",
    "from sklearn.model_selection import train_test_split"
   ]
  },
  {
   "cell_type": "markdown",
   "id": "12b48cda-5eed-4499-9c1c-b5a9b444df0f",
   "metadata": {},
   "source": [
    "# Read Data"
   ]
  },
  {
   "cell_type": "code",
   "execution_count": 50,
   "id": "1ab2f22d-4fb1-41cb-bf1f-d665181ae0f6",
   "metadata": {},
   "outputs": [],
   "source": [
    "vancouver_all_data = gpd.read_file('VancouverAllData.geojson')\n",
    "vancouver_gdf = gpd.GeoDataFrame({'population':vancouver_all_data['pop'], 'geometry':vancouver_all_data['geometry']})\n",
    "vancouver_gdf = vancouver_gdf.reset_index()\n",
    "\n",
    "osm_data = pd.read_json('osm/amenities-vancouver.json.gz', lines=True, compression='gzip')\n",
    "osm_data['geometry'] = list(zip(osm_data['lon'],osm_data['lat']))\n",
    "osm_data['geometry'] = osm_data['geometry'].apply(Point)\n",
    "osm_gdf = gpd.GeoDataFrame({'amenity':osm_data['amenity'], 'geometry':osm_data['geometry']}, geometry='geometry', crs=vancouver_gdf.crs)"
   ]
  },
  {
   "cell_type": "markdown",
   "id": "1862aa65",
   "metadata": {},
   "source": [
    "# Data Prep"
   ]
  },
  {
   "cell_type": "code",
   "execution_count": 52,
   "id": "a1a3bfc8",
   "metadata": {},
   "outputs": [
    {
     "name": "stderr",
     "output_type": "stream",
     "text": [
      "/Users/raufshimarov/opt/anaconda3/envs/geo_env/lib/python3.10/site-packages/IPython/core/interactiveshell.py:3301: FutureWarning: The `op` parameter is deprecated and will be removed in a future release. Please use the `predicate` parameter instead.\n",
      "  if await self.run_code(code, result, async_=asy):\n"
     ]
    }
   ],
   "source": [
    "# use spatial join to match points (osm data) and multipolygons (vancouver data)\n",
    "pointInPolys = gpd.tools.sjoin(osm_gdf, vancouver_gdf, op=\"within\", how='left')\n",
    "# index_right is the index of the joined multipolygon, i.e. ID of an area\n",
    "# group by area and for each area, get the list of amenities located in this area\n",
    "amenitiesInEachArea = pointInPolys.groupby(['index_right'])['amenity'].apply(list)\n",
    "# count the number of each amenity in the area and put it into dict\n",
    "amenitiesInEachArea = amenitiesInEachArea.apply(lambda x: Counter(x))\n",
    "vancouver_gdf['amenities'] = amenitiesInEachArea\n",
    "# # split the dict column into separate columns\n",
    "vancouver_gdf = pd.concat([vancouver_gdf.drop(['amenities'], axis=1), vancouver_gdf['amenities'].apply(pd.Series)], axis=1)\n",
    "# # some columns are duplicated for some reason??? (removed duplciates based on col names but need to make sure we're not dropping useful data)\n",
    "vancouver_gdf = vancouver_gdf.loc[:,~vancouver_gdf.columns.duplicated()].drop([0, 'geometry', 'index'], axis=1).fillna(0)"
   ]
  },
  {
   "cell_type": "markdown",
   "id": "c746a875",
   "metadata": {},
   "source": [
    "Scale data accroding to the amenities scoring"
   ]
  },
  {
   "cell_type": "code",
   "execution_count": 54,
   "id": "6f85a91a",
   "metadata": {},
   "outputs": [],
   "source": [
    "\n",
    "import json\n",
    "\n",
    "with open(\"amenities_scores.txt\") as f:\n",
    "    data = f.read()\n",
    "scores = json.loads(data)\n",
    "df_train = vancouver_gdf.drop('population', axis=1)\n",
    "df_train += 1\n",
    "scores_vector = []\n",
    "for i in range(len(df_train.columns)):\n",
    "    scores_vector.append(scores[df_train.columns[i]])\n",
    "scores_vector\n",
    "\n",
    "scaled_df_train = df_train * scores_vector\n",
    "\n"
   ]
  },
  {
   "cell_type": "markdown",
   "id": "d52dd2ea",
   "metadata": {},
   "source": [
    "# Machine Learning"
   ]
  },
  {
   "cell_type": "markdown",
   "id": "1f9a74b8",
   "metadata": {},
   "source": [
    "Our x is the number of amenities of some type in the area (e.g. 2 cafes, 4 banks, etc.). Our y is the population density in this area.<br>\n",
    "TO DO: Did we want to manually calculate a score for each area and use it as training data?"
   ]
  },
  {
   "cell_type": "code",
   "execution_count": 56,
   "id": "aed4704f",
   "metadata": {},
   "outputs": [
    {
     "name": "stdout",
     "output_type": "stream",
     "text": [
      "-3.132004093321778e+18\n"
     ]
    }
   ],
   "source": [
    "from sklearn.linear_model import LinearRegression\n",
    "from sklearn.preprocessing import PolynomialFeatures\n",
    "from sklearn.decomposition import PCA\n",
    "from sklearn.preprocessing import MinMaxScaler, StandardScaler\n",
    "\n",
    "X = scaled_df_train.values\n",
    "y = vancouver_gdf['population'].values # divide by the area of the multipolygon \n",
    "X_train, X_valid, y_train, y_valid = train_test_split(X, y)\n",
    "# train model\n",
    "model = make_pipeline(\n",
    "    PCA(50),\n",
    "    PolynomialFeatures(degree=3, include_bias=True),\n",
    "    LinearRegression(fit_intercept=False)\n",
    ")\n",
    "model.fit(X_train, y_train)\n",
    "# validate model\n",
    "print(model.score(X_valid, y_valid))"
   ]
  },
  {
   "cell_type": "markdown",
   "id": "8e7ec7a5",
   "metadata": {},
   "source": [
    "# Heatmap"
   ]
  },
  {
   "cell_type": "markdown",
   "id": "f710d057",
   "metadata": {},
   "source": [
    "Red: overpopulated<br>\n",
    "Yellow: OK<br>\n",
    "Green: underpopulated<br>"
   ]
  },
  {
   "cell_type": "markdown",
   "id": "8d4f99db",
   "metadata": {},
   "source": [
    "# Analysis"
   ]
  },
  {
   "cell_type": "markdown",
   "id": "9233da91",
   "metadata": {},
   "source": []
  }
 ],
 "metadata": {
  "kernelspec": {
   "display_name": "Python 3 (ipykernel)",
   "language": "python",
   "name": "python3"
  },
  "language_info": {
   "codemirror_mode": {
    "name": "ipython",
    "version": 3
   },
   "file_extension": ".py",
   "mimetype": "text/x-python",
   "name": "python",
   "nbconvert_exporter": "python",
   "pygments_lexer": "ipython3",
   "version": "3.10.4"
  }
 },
 "nbformat": 4,
 "nbformat_minor": 5
}
